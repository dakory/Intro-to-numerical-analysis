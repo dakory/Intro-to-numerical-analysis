{
 "cells": [
  {
   "cell_type": "code",
   "execution_count": 1,
   "metadata": {},
   "outputs": [
    {
     "name": "stdout",
     "output_type": "stream",
     "text": [
      "A:\n",
      "[[879 289 687 538 328]\n",
      " [ 72  10 562 426 829]\n",
      " [626 199 159  77 616]\n",
      " [981 894 479 983 250]\n",
      " [802 778 962 766 784]]\n",
      "\n",
      "P:\n",
      "[[0. 1. 0. 0. 0.]\n",
      " [0. 0. 0. 1. 0.]\n",
      " [0. 0. 0. 0. 1.]\n",
      " [1. 0. 0. 0. 0.]\n",
      " [0. 0. 1. 0. 0.]]\n",
      "\n",
      "L:\n",
      "[[ 1.          0.          0.          0.          0.        ]\n",
      " [ 0.89602446  1.          0.          0.          0.        ]\n",
      " [ 0.81753313 -0.09203352  1.          0.          0.        ]\n",
      " [ 0.0733945   0.10861269  0.8396221   1.          0.        ]\n",
      " [ 0.63812436  0.72548809 -0.56165566 -0.75793109  1.        ]]\n",
      "\n",
      "U:\n",
      "[[ 981.          894.          479.          983.          250.        ]\n",
      " [   0.         -512.04587156  257.80428135 -342.79204893  103.99388379]\n",
      " [   0.            0.          594.12826562  -69.18342401  589.18764047]\n",
      " [   0.            0.            0.          449.17270872  304.66135834]\n",
      " [   0.            0.            0.            0.          942.85547682]]\n",
      "\n",
      "Dot product:\n",
      "[[879. 289. 687. 538. 328.]\n",
      " [ 72.  10. 562. 426. 829.]\n",
      " [626. 199. 159.  77. 616.]\n",
      " [981. 894. 479. 983. 250.]\n",
      " [802. 778. 962. 766. 784.]]\n"
     ]
    }
   ],
   "source": [
    "import numpy as np\n",
    "from scipy.linalg import lu\n",
    "\n",
    "N = 5\n",
    "A = np.random.randint(1000, size=(N, N))\n",
    "P, L, U = lu(A)\n",
    "\n",
    "def dot_product(P, L, U):\n",
    "    return np.dot(P, np.dot(L, U))\n",
    "\n",
    "print(f\"A:\\n{A}\\n\\nP:\\n{P}\\n\\nL:\\n{L}\\n\\nU:\\n{U}\")\n",
    "print(f\"\\nDot product:\\n{dot_product(P, L, U)}\")"
   ]
  },
  {
   "cell_type": "code",
   "execution_count": null,
   "metadata": {},
   "outputs": [],
   "source": []
  }
 ],
 "metadata": {
  "kernelspec": {
   "display_name": "Python 3",
   "language": "python",
   "name": "python3"
  },
  "language_info": {
   "codemirror_mode": {
    "name": "ipython",
    "version": 3
   },
   "file_extension": ".py",
   "mimetype": "text/x-python",
   "name": "python",
   "nbconvert_exporter": "python",
   "pygments_lexer": "ipython3",
   "version": "3.8.2"
  }
 },
 "nbformat": 4,
 "nbformat_minor": 4
}
