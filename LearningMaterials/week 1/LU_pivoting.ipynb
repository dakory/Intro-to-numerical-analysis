{
 "cells": [
  {
   "cell_type": "code",
   "execution_count": 4,
   "metadata": {},
   "outputs": [
    {
     "name": "stdout",
     "output_type": "stream",
     "text": [
      "A matrix:\n",
      "[[253 567 890 797 524]\n",
      " [978 119 585 934 370]\n",
      " [696 746  96 977 903]\n",
      " [205 850 675  62 660]\n",
      " [716 220 176 985 314]]\n",
      "\n",
      "Dot product of PLU:\n",
      "[[253. 567. 890. 797. 524.]\n",
      " [978. 119. 585. 934. 370.]\n",
      " [696. 746.  96. 977. 903.]\n",
      " [205. 850. 675.  62. 660.]\n",
      " [716. 220. 176. 985. 314.]]\n"
     ]
    }
   ],
   "source": [
    "import numpy as np\n",
    "from scipy.linalg import lu\n",
    "\n",
    "N = 5\n",
    "A = np.random.randint(1000, size=(N, N))\n",
    "P, L, U = lu(A)\n",
    "\n",
    "def dot_product(P, L, U):\n",
    "    return np.dot(P, np.dot(L, U))\n",
    "\n",
    "print(f\"A matrix:\\n{A}\")\n",
    "print(f\"\\nDot product of PLU:\\n{dot_product(P, L, U)}\")"
   ]
  },
  {
   "cell_type": "code",
   "execution_count": null,
   "metadata": {},
   "outputs": [],
   "source": []
  }
 ],
 "metadata": {
  "kernelspec": {
   "display_name": "Python 3",
   "language": "python",
   "name": "python3"
  },
  "language_info": {
   "codemirror_mode": {
    "name": "ipython",
    "version": 3
   },
   "file_extension": ".py",
   "mimetype": "text/x-python",
   "name": "python",
   "nbconvert_exporter": "python",
   "pygments_lexer": "ipython3",
   "version": "3.8.2"
  }
 },
 "nbformat": 4,
 "nbformat_minor": 4
}
